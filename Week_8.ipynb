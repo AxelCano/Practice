{
 "cells": [
  {
   "cell_type": "code",
   "execution_count": null,
   "id": "ab4dd62f-93ff-489c-a7d6-147fcd8871f2",
   "metadata": {},
   "outputs": [],
   "source": [
    "def longest_common_prefix(strs):\n",
    "    if not strs:\n",
    "        return \"\"\n",
    "\n",
    "    min_len_str = min(strs, key=len)\n",
    "    for i, char in enumerate(min_len_str):\n",
    "        for string in strs:\n",
    "            if string[i] != char:\n",
    "                return min_len_str[:i]    \n",
    "    return min_len_str\n",
    "\n",
    "array_of_strings = [\"flower\", \"flow\", \"flight\"]\n",
    "print(longest_common_prefix(array_of_strings))"
   ]
  },
  {
   "cell_type": "code",
   "execution_count": 1,
   "id": "f8ea84b6-9e9d-4508-905e-00227aef7ef3",
   "metadata": {},
   "outputs": [
    {
     "name": "stdout",
     "output_type": "stream",
     "text": [
      "3\n"
     ]
    }
   ],
   "source": [
    "def majority_element(nums):\n",
    "    candidate = None\n",
    "    count = 0   \n",
    "    for num in nums:\n",
    "        if count == 0:\n",
    "            candidate = num\n",
    "            count = 1\n",
    "        elif num == candidate:\n",
    "            count += 1\n",
    "        else:\n",
    "            count -= 1\n",
    "    \n",
    "    count = 0\n",
    "    for num in nums:\n",
    "        if num == candidate:\n",
    "            count += 1\n",
    "\n",
    "    if count > len(nums) // 2:\n",
    "        return candidate\n",
    "    else:\n",
    "        return None  \n",
    "\n",
    "nums = [3, 2, 3]\n",
    "print(majority_element(nums))  \n"
   ]
  },
  {
   "cell_type": "code",
   "execution_count": null,
   "id": "de7da43f-152e-40be-8990-1abef5c16f57",
   "metadata": {},
   "outputs": [],
   "source": []
  }
 ],
 "metadata": {
  "kernelspec": {
   "display_name": "Python 3 (ipykernel)",
   "language": "python",
   "name": "python3"
  },
  "language_info": {
   "codemirror_mode": {
    "name": "ipython",
    "version": 3
   },
   "file_extension": ".py",
   "mimetype": "text/x-python",
   "name": "python",
   "nbconvert_exporter": "python",
   "pygments_lexer": "ipython3",
   "version": "3.9.0"
  }
 },
 "nbformat": 4,
 "nbformat_minor": 5
}
