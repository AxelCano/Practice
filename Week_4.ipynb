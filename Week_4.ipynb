{
 "cells": [
  {
   "cell_type": "markdown",
   "id": "717ac9f0-bb9e-4bf8-8094-82e795fb07e1",
   "metadata": {},
   "source": [
    "1 - Write a Python program to find the single element in a list where every element appears multiple times except for one.\n",
    "Input : [5, 3, 4, 3, 5, 5, 3],\n",
    "Output : 4"
   ]
  },
  {
   "cell_type": "code",
   "execution_count": 1,
   "id": "c32b359c-078c-4096-9248-427592d019c3",
   "metadata": {},
   "outputs": [
    {
     "data": {
      "text/plain": [
       "4"
      ]
     },
     "execution_count": 1,
     "metadata": {},
     "output_type": "execute_result"
    }
   ],
   "source": [
    "list_1 = [5, 3, 4, 3, 5, 5, 3]\n",
    "def single_element(nums):\n",
    "    for i in range(len(nums)):\n",
    "        count = 0\n",
    "        for j in range(len(nums)):\n",
    "            if nums[i] == nums[j]:\n",
    "                count += 1\n",
    "        if count == 1:\n",
    "            return nums[i]\n",
    "    # if there is no single element \n",
    "    return -1 \n",
    "single_element(list_1)"
   ]
  },
  {
   "cell_type": "markdown",
   "id": "86f9930e-6fe8-4291-9609-42b937f02438",
   "metadata": {},
   "source": [
    "\n",
    "2 - Write a Python program to compute and return the square root of a given 'integer'. \n",
    "Input : 16\n",
    "Output : 4\n",
    "Note : The returned value will be an 'integer', do not use square root functions from python."
   ]
  },
  {
   "cell_type": "code",
   "execution_count": 2,
   "id": "508ba240-a300-4611-bf95-a13e0259cb25",
   "metadata": {},
   "outputs": [
    {
     "data": {
      "text/plain": [
       "5"
      ]
     },
     "execution_count": 2,
     "metadata": {},
     "output_type": "execute_result"
    }
   ],
   "source": [
    "def square_root(x):\n",
    "    result = x**0.5\n",
    "    return int(result)\n",
    "square_root(25)"
   ]
  },
  {
   "cell_type": "markdown",
   "id": "e58355be-4292-4e55-9d1c-dce7fc0cda59",
   "metadata": {},
   "source": [
    "3 - Write a Python program to check a sequence of numbers is a geometric progression or not. \n",
    "Input : [2, 6, 18, 54]"
   ]
  },
  {
   "cell_type": "code",
   "execution_count": 5,
   "id": "42171ab8-f9f5-41aa-9d8e-02e298e5623f",
   "metadata": {},
   "outputs": [
    {
     "data": {
      "text/plain": [
       "True"
      ]
     },
     "execution_count": 5,
     "metadata": {},
     "output_type": "execute_result"
    }
   ],
   "source": [
    "list_1 = [2, 6, 18, 54]\n",
    "def geometric_regression(nums):\n",
    "    rate  = nums[1]/nums[0]\n",
    "    for ratio in range(1, len(nums)):\n",
    "        if nums[ratio]/nums[ratio-1] != rate:\n",
    "            return False\n",
    "    return True\n",
    "geometric_regression(list_1)"
   ]
  }
 ],
 "metadata": {
  "kernelspec": {
   "display_name": "Python 3 (ipykernel)",
   "language": "python",
   "name": "python3"
  },
  "language_info": {
   "codemirror_mode": {
    "name": "ipython",
    "version": 3
   },
   "file_extension": ".py",
   "mimetype": "text/x-python",
   "name": "python",
   "nbconvert_exporter": "python",
   "pygments_lexer": "ipython3",
   "version": "3.9.0"
  }
 },
 "nbformat": 4,
 "nbformat_minor": 5
}
