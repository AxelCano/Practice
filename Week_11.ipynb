{
 "cells": [
  {
   "cell_type": "markdown",
   "id": "3f1e6ea3-373c-4a68-afdd-2e1210bcd2a8",
   "metadata": {},
   "source": [
    "Q1. You are given two integer arrays nums1 and nums2, sorted in non-decreasing order, and two integers m and n, representing the number of elements in nums1 and nums2 respectively.\r\n",
    "\r\n",
    "Merge nums1 and nums2 into a single array sorted in non-decreasing order.\r\n",
    "\r\n",
    "The final sorted array should not be returned by the function, but instead be stored inside the array nums1. To accommodate this, nums1 has a length of m + n, where the first m elements denote the elements that should be merged, and the last n elements are set to 0 and should be ignored. nums2 has a length of n."
   ]
  },
  {
   "cell_type": "code",
   "execution_count": 7,
   "id": "d3d290fd-1867-4fba-9c86-cd7dea27e6dd",
   "metadata": {},
   "outputs": [
    {
     "name": "stdout",
     "output_type": "stream",
     "text": [
      "[1, 2, 2, 3, 5, 6]\n"
     ]
    }
   ],
   "source": [
    "def array_merge(nums1: list[int], m: int, nums2: list[int], n:int) -> list[int]:\n",
    "    # Starting from the end of nums1 and nums2\n",
    "    p_1 = m - 1\n",
    "    p_2 = n - 1\n",
    "    p = m + n - 1\n",
    "    \n",
    "    # Merging nums1 and nums2 into nums1\n",
    "    while p_1 >= 0 and p_2 >= 0:\n",
    "        if nums1[p_1] > nums2[p_2]:\n",
    "            nums1[p] = nums1[p_1]\n",
    "            p_1 -= 1\n",
    "        else:\n",
    "            nums1[p] = nums2[p_2]\n",
    "            p_2 -= 1\n",
    "        p -= 1\n",
    "    \n",
    "    # If there are remaining elements in nums2, copy them to nums1\n",
    "    nums1[:p_2 + 1] = nums2[:p_2 + 1]\n",
    "    return nums1\n",
    "#Example of use:\n",
    "nums1 = [1,2,3,0,0,0]\n",
    "m = 3\n",
    "nums2 = [2,5,6]\n",
    "n = 3\n",
    "print(array_merge(nums1, m, nums2, n))"
   ]
  },
  {
   "cell_type": "markdown",
   "id": "f4d7ebf2-de29-40ec-b54d-4ee32b8c40c0",
   "metadata": {},
   "source": [
    "----------------------------------------------"
   ]
  },
  {
   "cell_type": "markdown",
   "id": "217abcd9-4ef0-4a45-99c4-02e39e99c4f9",
   "metadata": {},
   "source": [
    "Q2. Given an input string s and a pattern p, implement regular expression matching with support for '.' and '\\*' where:\r\n",
    "'.' Matches any single character.​​​\\\r\n",
    "'*' Matches zero or more of the preceding element.\r\n",
    "The matching should cover the entire input string (not partal)."
   ]
  },
  {
   "cell_type": "code",
   "execution_count": 10,
   "id": "a00b9e9d-065e-40bd-a821-c8dd14376a95",
   "metadata": {},
   "outputs": [
    {
     "data": {
      "text/plain": [
       "False"
      ]
     },
     "execution_count": 10,
     "metadata": {},
     "output_type": "execute_result"
    }
   ],
   "source": [
    "def is_match(s: str, p: str) -> bool:\n",
    "    if not p:\n",
    "        return not s\n",
    "\n",
    "    # checking if the first characters match\n",
    "    first_match = bool(s) and (s[0] == p[0] or p[0] == '.')\n",
    "\n",
    "    #'*' case\n",
    "    if len(p) >= 2 and p[1] == '*':\n",
    "        # Match >= 0  \n",
    "        return (is_match(s, p[2:]) or\n",
    "                (first_match and is_match(s[1:], p)))\n",
    "    else:\n",
    "        # matching without '*'\n",
    "        return first_match and is_match(s[1:], p[1:])\n",
    "\n",
    "s = \"aa\"\n",
    "p = \"a\"\n",
    "is_match(s,p)"
   ]
  },
  {
   "cell_type": "code",
   "execution_count": 12,
   "id": "0af2e95b-ec71-43e1-b450-b180ca232b5b",
   "metadata": {},
   "outputs": [
    {
     "data": {
      "text/plain": [
       "True"
      ]
     },
     "execution_count": 12,
     "metadata": {},
     "output_type": "execute_result"
    }
   ],
   "source": [
    "s = \"aa\"\n",
    "p = \"a*\"\n",
    "is_match(s,p)"
   ]
  },
  {
   "cell_type": "markdown",
   "id": "68fc5b41-e379-4da2-a35e-262731ea760a",
   "metadata": {},
   "source": [
    "---------------------------------------------"
   ]
  },
  {
   "cell_type": "markdown",
   "id": "eda79477-1203-4a49-87a1-8c674bf857b9",
   "metadata": {},
   "source": [
    "Q3- A permutation of an array of integers is an arrangement of its members into a sequence or linear order.\n",
    "\n",
    "For example, for arr = [1,2,3], the following are considered permutations of arr: [1,2,3], [1,3,2], [3,1,2], [2,3,1].\n",
    "The next permutation of an array of integers is the next lexicographically greater permutation of its integer. More formally, if all the permutations of the array are sorted in one container according to their lexicographical order, then the next permutation of that array is the permutation that follows it in the sorted container. If such arrangement is not possible, the array must be rearranged as the lowest possible order (i.e., sorted in ascending order).\n",
    "\n",
    "For example, the next permutation of arr = [1,2,3] is [1,3,2].\n",
    "Similarly, the next permutation of arr = [2,3,1] is [3,1,2].\n",
    "While the next permutation of arr = [3,2,1] is [1,2,3] because [3,2,1] does not have a lexicographical larger rearrangement.\n",
    "Given an array of integers nums, find the next permutation of nums.\n",
    "\n",
    "The replacement must be in place and use only constant extra memory."
   ]
  },
  {
   "cell_type": "code",
   "execution_count": 14,
   "id": "274cb9bf-1a17-45d5-9f3c-907662c2f820",
   "metadata": {},
   "outputs": [
    {
     "data": {
      "text/plain": [
       "[1, 3, 2]"
      ]
     },
     "execution_count": 14,
     "metadata": {},
     "output_type": "execute_result"
    }
   ],
   "source": [
    "def nextPermutation(nums: list[int]) -> list[int] :\n",
    "    # first decreasing \n",
    "    i = len(nums) - 2\n",
    "    while i >= 0 and nums[i] >= nums[i + 1]:\n",
    "        i -= 1\n",
    "\n",
    "    if i >= 0:\n",
    "        #first element greater than nums[i]\n",
    "        j = len(nums) - 1\n",
    "        while j >= 0 and nums[j] <= nums[i]:\n",
    "            j -= 1\n",
    "        # Swap nums[i] and nums[j]\n",
    "        nums[i], nums[j] = nums[j], nums[i]\n",
    "\n",
    "    # Reverse the remaining elements\n",
    "    left, right = i + 1, len(nums) - 1\n",
    "    while left < right:\n",
    "        nums[left], nums[right] = nums[right], nums[left]\n",
    "        left += 1\n",
    "        right -= 1\n",
    "    return nums\n",
    "\n",
    "nums = [1,2,3]\n",
    "nextPermutation(nums)"
   ]
  },
  {
   "cell_type": "code",
   "execution_count": null,
   "id": "73468c0f-0c8a-4b62-8cee-1bb32ea1ff15",
   "metadata": {},
   "outputs": [],
   "source": []
  }
 ],
 "metadata": {
  "kernelspec": {
   "display_name": "Python 3 (ipykernel)",
   "language": "python",
   "name": "python3"
  },
  "language_info": {
   "codemirror_mode": {
    "name": "ipython",
    "version": 3
   },
   "file_extension": ".py",
   "mimetype": "text/x-python",
   "name": "python",
   "nbconvert_exporter": "python",
   "pygments_lexer": "ipython3",
   "version": "3.9.0"
  }
 },
 "nbformat": 4,
 "nbformat_minor": 5
}
