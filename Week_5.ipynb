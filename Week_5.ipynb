{
 "cells": [
  {
   "cell_type": "markdown",
   "id": "6ada4f85-c966-4142-81a3-2d8a36381abc",
   "metadata": {},
   "source": [
    "### Write a Python program to find all the numbers from 0-9 from a string:\r\n",
    "\r\n",
    "input: '89ADFRE41'"
   ]
  },
  {
   "cell_type": "code",
   "execution_count": 10,
   "id": "6057e01b-1360-4f8a-8299-68c5651c94c9",
   "metadata": {},
   "outputs": [
    {
     "data": {
      "text/plain": [
       "'8941'"
      ]
     },
     "execution_count": 10,
     "metadata": {},
     "output_type": "execute_result"
    }
   ],
   "source": [
    "input1 = '89ADFRE41'\n",
    "def numbers_in_list(nums):\n",
    "    result = ''\n",
    "    for number in nums:\n",
    "        if number.isdigit():\n",
    "            result = result + number \n",
    "    return result\n",
    "numbers_in_list(input1)"
   ]
  },
  {
   "cell_type": "markdown",
   "id": "4f428095-d814-497d-a7c1-968f8cc265cd",
   "metadata": {},
   "source": [
    "### Write a Python program to find two elements once in a list where every element appears exactly n times in the list. \r\n",
    "Input : [1, 2, 1, 3, 2, 5], 2    (n=2)"
   ]
  },
  {
   "cell_type": "code",
   "execution_count": 5,
   "id": "a30d3dfa-e9d5-45ce-891d-4a42ab9c1b1b",
   "metadata": {},
   "outputs": [
    {
     "data": {
      "text/plain": [
       "[3, 5]"
      ]
     },
     "execution_count": 5,
     "metadata": {},
     "output_type": "execute_result"
    }
   ],
   "source": [
    "def elements_in_list(nums):\n",
    "    result = []\n",
    "    for i in range(len(nums)):\n",
    "        count = 0\n",
    "        for j in range(len(nums)):\n",
    "            if nums[i] == nums[j]:\n",
    "                count += 1\n",
    "        if count == 1:\n",
    "            result.append(nums[i])\n",
    "    return result\n",
    "elements_in_list([1, 2, 1, 3, 2, 5, 1])"
   ]
  },
  {
   "cell_type": "markdown",
   "id": "59816950-35e4-47f4-a7f2-89ad52c32bab",
   "metadata": {},
   "source": [
    "###  Write a Python program to reverse the digits of an integer."
   ]
  },
  {
   "cell_type": "code",
   "execution_count": 7,
   "id": "7137cf2f-1705-4bb3-9a82-c9e97676e7d6",
   "metadata": {},
   "outputs": [
    {
     "name": "stdout",
     "output_type": "stream",
     "text": [
      "-432\n",
      "432\n"
     ]
    }
   ],
   "source": [
    "# the number to be reversed\n",
    "num = -234\n",
    "num_2 = 234\n",
    "def reversed_number(numbs):\n",
    "    rev = 0\n",
    "    negative = False\n",
    "    if numbs < 0 : \n",
    "        numbs = numbs * (-1)\n",
    "        negative = True\n",
    "        \n",
    "    while(numbs > 0): \n",
    "        new_number = numbs % 10\n",
    "        rev = rev * 10 + new_number\n",
    "        numbs = numbs // 10\n",
    "        \n",
    "    if negative == True:\n",
    "        return rev * -1\n",
    "    else:\n",
    "        return rev\n",
    "    \n",
    "        \n",
    "print(reversed_number(num))\n",
    "print(reversed_number(num_2))"
   ]
  },
  {
   "cell_type": "code",
   "execution_count": null,
   "id": "762fb128-bb40-40db-86b0-95d853d714f6",
   "metadata": {},
   "outputs": [],
   "source": []
  }
 ],
 "metadata": {
  "kernelspec": {
   "display_name": "Python 3 (ipykernel)",
   "language": "python",
   "name": "python3"
  },
  "language_info": {
   "codemirror_mode": {
    "name": "ipython",
    "version": 3
   },
   "file_extension": ".py",
   "mimetype": "text/x-python",
   "name": "python",
   "nbconvert_exporter": "python",
   "pygments_lexer": "ipython3",
   "version": "3.9.0"
  }
 },
 "nbformat": 4,
 "nbformat_minor": 5
}
