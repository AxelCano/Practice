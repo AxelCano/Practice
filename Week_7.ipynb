{
 "cells": [
  {
   "cell_type": "markdown",
   "id": "e4083dcb-4374-4b03-8570-6c5b367b4c35",
   "metadata": {},
   "source": [
    "### Given an integer x, return true if x is palindrome integer."
   ]
  },
  {
   "cell_type": "code",
   "execution_count": 1,
   "id": "8b7e8339-58ff-4a98-877a-3d753ca7ed3e",
   "metadata": {},
   "outputs": [
    {
     "name": "stdout",
     "output_type": "stream",
     "text": [
      "True\n",
      "False\n"
     ]
    }
   ],
   "source": [
    "def palindrome(num : int) -> bool:\n",
    "    \n",
    "    if str(num) == str(num)[::-1]:\n",
    "        return True\n",
    "    else:\n",
    "        return False\n",
    "\n",
    "test_1 = palindrome(121)\n",
    "test_2 = palindrome(123)    \n",
    "print(test_1)\n",
    "print(test_2)"
   ]
  },
  {
   "cell_type": "markdown",
   "id": "ec8fe807-03a1-4d8f-8e09-2115d389d7b8",
   "metadata": {},
   "source": [
    "### Given a roman numeral, convert it to an integer."
   ]
  },
  {
   "cell_type": "code",
   "execution_count": 2,
   "id": "97467766-fbcd-4dfb-9b63-d29853efe242",
   "metadata": {},
   "outputs": [
    {
     "data": {
      "text/plain": [
       "6"
      ]
     },
     "execution_count": 2,
     "metadata": {},
     "output_type": "execute_result"
    }
   ],
   "source": [
    "def roman_decoder(roman_number : str) -> int:\n",
    "    roman_code = {'I' : 1,\n",
    "                 'V' : 5,\n",
    "                 'X' : 10,\n",
    "                 'L' : 50,\n",
    "                 'C' : 100,\n",
    "                 'D' : 500,\n",
    "                 'M' : 1000}\n",
    "    result = 0\n",
    "    previous_val = 0\n",
    "\n",
    "    for x in roman_number.upper():\n",
    "        current_val = roman_code[x]\n",
    "        if current_val > previous_val:\n",
    "            result += current_val - (2 * previous_val)\n",
    "        else: \n",
    "            result += current_val\n",
    "        previous_val = current_val\n",
    "    return result\n",
    "\n",
    "roman_decoder('Vi')\n"
   ]
  },
  {
   "cell_type": "markdown",
   "id": "fef5c59e-1ca7-4640-a00e-7bc9464bb592",
   "metadata": {},
   "source": [
    "### Q3 \n",
    "You are given an array of k linked-lists lists, each linked-list is sorted in ascending order \n",
    "\r\n",
    "Merge all the linked-lists into one sorted linked-list and return it."
   ]
  },
  {
   "cell_type": "code",
   "execution_count": 3,
   "id": "6c63698b-cfe7-434b-a733-8eb248d76eca",
   "metadata": {},
   "outputs": [
    {
     "name": "stdout",
     "output_type": "stream",
     "text": [
      "1 1 2 3 4 4 5 6 "
     ]
    }
   ],
   "source": [
    "class ListNode:\n",
    "    def __init__(self, val=0, next=None):\n",
    "        self.val = val\n",
    "        self.next = next\n",
    "\n",
    "def mergeTwoLists(l1, l2):\n",
    "    if not l1:\n",
    "        return l2\n",
    "    if not l2:\n",
    "        return l1\n",
    "    \n",
    "    dummy = ListNode()\n",
    "    current = dummy\n",
    "    \n",
    "    while l1 and l2:\n",
    "        if l1.val < l2.val:\n",
    "            current.next = l1\n",
    "            l1 = l1.next\n",
    "        else:\n",
    "            current.next = l2\n",
    "            l2 = l2.next\n",
    "        current = current.next\n",
    "    \n",
    "    current.next = l1 if l1 else l2\n",
    "    \n",
    "    return dummy.next\n",
    "\n",
    "def mergeKLists(lists):\n",
    "    if not lists:\n",
    "        return None\n",
    "    \n",
    "    while len(lists) > 1:\n",
    "        merged_lists = []\n",
    "        for i in range(0, len(lists), 2):\n",
    "            l1 = lists[i]\n",
    "            l2 = lists[i + 1] if i + 1 < len(lists) else None\n",
    "            merged_lists.append(mergeTwoLists(l1, l2))\n",
    "        lists = merged_lists\n",
    "    \n",
    "    return lists[0]\n",
    "\n",
    "\n",
    "list1 = ListNode(1, ListNode(4, ListNode(5)))\n",
    "list2 = ListNode(1, ListNode(3, ListNode(4)))\n",
    "list3 = ListNode(2, ListNode(6))\n",
    "\n",
    "\n",
    "result = mergeKLists([list1, list2, list3])\n",
    "\n",
    "\n",
    "while result:\n",
    "    print(result.val, end=\" \")\n",
    "    result = result.next"
   ]
  },
  {
   "cell_type": "markdown",
   "id": "655d381a-f445-419a-8035-fbe12f6f021f",
   "metadata": {},
   "source": [
    "### Q4 \n",
    "Given an integer array nums and an integer k, return the number of good subarrays of nums."
   ]
  },
  {
   "cell_type": "code",
   "execution_count": 7,
   "id": "32be3789-07b7-4a51-adaf-7d70660e615e",
   "metadata": {},
   "outputs": [
    {
     "name": "stdout",
     "output_type": "stream",
     "text": [
      "0\n"
     ]
    }
   ],
   "source": [
    "def countGoodSubarrays(nums, k):\n",
    "    def atMostK(nums, k):\n",
    "        count = 0\n",
    "        left = 0\n",
    "        frequency = {}\n",
    "        result = 0\n",
    "\n",
    "        for right in range(len(nums)):\n",
    "            if nums[right] % 2 == 1:\n",
    "                frequency[nums[right]] = frequency.get(nums[right], 0) + 1\n",
    "\n",
    "            while len(frequency) > k:\n",
    "                frequency[nums[left]] -= 1\n",
    "                if frequency[nums[left]] == 0:\n",
    "                    del frequency[nums[left]]\n",
    "                left += 1\n",
    "\n",
    "            count += right - left + 1\n",
    "            result += count\n",
    "\n",
    "        return result\n",
    "\n",
    "    return atMostK(nums, k) - atMostK(nums, k - 1)\n",
    "\n",
    "\n",
    "nums = [1, 2, 1, 3, 4]\n",
    "k = 3\n",
    "print(countGoodSubarrays(nums, k))  \n"
   ]
  },
  {
   "cell_type": "code",
   "execution_count": null,
   "id": "57a6eb02-aa40-42d5-bddf-1b72aeb8bdf4",
   "metadata": {},
   "outputs": [],
   "source": []
  }
 ],
 "metadata": {
  "kernelspec": {
   "display_name": "Python 3 (ipykernel)",
   "language": "python",
   "name": "python3"
  },
  "language_info": {
   "codemirror_mode": {
    "name": "ipython",
    "version": 3
   },
   "file_extension": ".py",
   "mimetype": "text/x-python",
   "name": "python",
   "nbconvert_exporter": "python",
   "pygments_lexer": "ipython3",
   "version": "3.9.0"
  }
 },
 "nbformat": 4,
 "nbformat_minor": 5
}
