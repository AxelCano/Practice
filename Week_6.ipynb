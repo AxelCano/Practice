{
 "cells": [
  {
   "cell_type": "markdown",
   "id": "fb391216-56f4-459b-bff2-255aedc315a4",
   "metadata": {},
   "source": [
    "### 1 - Write a Python program to check a sequence of numbers is an arithmetic progression or not. "
   ]
  },
  {
   "cell_type": "code",
   "execution_count": 1,
   "id": "fe3b8cb6-f5fb-4642-9512-79b9a0d8097b",
   "metadata": {},
   "outputs": [
    {
     "data": {
      "text/plain": [
       "True"
      ]
     },
     "execution_count": 1,
     "metadata": {},
     "output_type": "execute_result"
    }
   ],
   "source": [
    "def arithmetic_progression(numbs : list) -> bool: \n",
    "    difference = numbs[1] - numbs[0]\n",
    "    for diff in range(1, len(numbs)):\n",
    "        if numbs[diff] - numbs[diff-1] != difference : \n",
    "            return False\n",
    "    return True\n",
    "arithmetic_progression([5, 7, 9, 11])"
   ]
  },
  {
   "cell_type": "markdown",
   "id": "4476b065-9e37-4438-b0f1-11cce4e36bc2",
   "metadata": {},
   "source": [
    "### 2 - Write a Python program to check whether a given number is an ugly number. "
   ]
  },
  {
   "cell_type": "code",
   "execution_count": 6,
   "id": "be7b6023-6722-409f-9f98-a6e71c7692e8",
   "metadata": {},
   "outputs": [
    {
     "data": {
      "text/plain": [
       "True"
      ]
     },
     "execution_count": 6,
     "metadata": {},
     "output_type": "execute_result"
    }
   ],
   "source": [
    "def ugly_number(num : int) -> bool :\n",
    "    if num <= 0:\n",
    "        return False\n",
    "    for prime_factor in [2, 3, 5]:\n",
    "        while num % prime_factor == 0:\n",
    "            num //= prime_factor\n",
    "    return num == 1\n",
    "\n",
    "\n",
    "ugly_number(12)"
   ]
  },
  {
   "cell_type": "markdown",
   "id": "32a5f38b-965e-4033-81c9-6713aa2f2a83",
   "metadata": {},
   "source": [
    "### 3 - Write a Python Function to find the single number in a list that doesn't occur n times.\r\n",
    "Input : [5, 3,3,4, 4, 3, 4], N=3"
   ]
  },
  {
   "cell_type": "code",
   "execution_count": 3,
   "id": "ea99021e-5b72-41a1-8633-c77cf7f9662c",
   "metadata": {},
   "outputs": [
    {
     "data": {
      "text/plain": [
       "[5]"
      ]
     },
     "execution_count": 3,
     "metadata": {},
     "output_type": "execute_result"
    }
   ],
   "source": [
    "def single_number(lst : list) -> list:\n",
    "    result = []\n",
    "    for i in range(len(lst)):\n",
    "        counter = 0\n",
    "        for j in range(len(lst)):\n",
    "            if lst[i] == lst[j]:\n",
    "                counter +=1\n",
    "        if counter == 1:\n",
    "            result.append(lst[i])\n",
    "    return result\n",
    "\n",
    "single_number([5, 3, 3, 4, 4, 3, 4])"
   ]
  },
  {
   "cell_type": "code",
   "execution_count": null,
   "id": "92bbe369-2aaf-4a3b-9291-ad42427f15f9",
   "metadata": {},
   "outputs": [],
   "source": []
  }
 ],
 "metadata": {
  "kernelspec": {
   "display_name": "Python 3 (ipykernel)",
   "language": "python",
   "name": "python3"
  },
  "language_info": {
   "codemirror_mode": {
    "name": "ipython",
    "version": 3
   },
   "file_extension": ".py",
   "mimetype": "text/x-python",
   "name": "python",
   "nbconvert_exporter": "python",
   "pygments_lexer": "ipython3",
   "version": "3.9.0"
  }
 },
 "nbformat": 4,
 "nbformat_minor": 5
}
