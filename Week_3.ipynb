{
 "cells": [
  {
   "cell_type": "markdown",
   "id": "04aedb20-e5f4-481c-95f9-7e19699eb42c",
   "metadata": {},
   "source": [
    "### Name : Axel Cano"
   ]
  },
  {
   "cell_type": "markdown",
   "id": "dcd523c8-bda4-4de6-9116-e130ec28600d",
   "metadata": {},
   "source": [
    "### 1 - Write a Python program to find 4 numbers from an array such that the sum of 4 numbers equal to a given number.\r\n",
    "Input : [1, 0, -1, 0, -2, 2,10,11], 0)\r\n",
    "Output : [[-2, -1, 1, 2], [-2, 0, 0, 2], [-1, 0, 0, 1]]"
   ]
  },
  {
   "cell_type": "code",
   "execution_count": 5,
   "id": "ab7e9449-3bc8-4e88-80f4-5b1549904f7a",
   "metadata": {},
   "outputs": [
    {
     "data": {
      "text/plain": [
       "[[-10, -2, 1, 11],\n",
       " [-10, -1, 0, 11],\n",
       " [-2, -1, 1, 2],\n",
       " [-2, 0, 0, 2],\n",
       " [-1, 0, 0, 1]]"
      ]
     },
     "execution_count": 5,
     "metadata": {},
     "output_type": "execute_result"
    }
   ],
   "source": [
    "input_1 = [1, 0, -1, 0, -2, 2, -10, 11]\n",
    "target = 0\n",
    "\n",
    "def finding_sum(input_1, target):\n",
    "    input_1.sort()\n",
    "    res = []\n",
    "    quad = []\n",
    "\n",
    "    def ksum(k, start, target):\n",
    "        if k != 2:\n",
    "            for i in range(start, len(input_1) - k +1):\n",
    "                if i > start and input_1[i] == input_1[i-1]:\n",
    "                    continue \n",
    "                quad.append(input_1[i])\n",
    "                ksum(k -1, i + 1, target - input_1[i])\n",
    "                quad.pop()\n",
    "            return\n",
    "        left = start\n",
    "        right = len(input_1) - 1\n",
    "        while left < right:\n",
    "            if input_1[left] + input_1[right] < target:\n",
    "                left += 1\n",
    "            elif input_1[left] + input_1[right] > target: \n",
    "                right -=1\n",
    "            else: \n",
    "                res.append(quad + [input_1[left], input_1[right]])\n",
    "                left += 1\n",
    "                while left < right and input_1[left] == input_1[left - 1]:\n",
    "                    left += 1\n",
    "    ksum(4, 0, target)                \n",
    "    return res\n",
    "\n",
    "finding_sum(input_1, target)"
   ]
  },
  {
   "cell_type": "markdown",
   "id": "78348efe-f74c-4cb2-a6f1-48a59cbdd6dc",
   "metadata": {},
   "source": [
    "### 2 - Write a Python program to find the single element appears once in a list where every element appears multiple times except for one. \n",
    "Input : [1, 1, 1, 2, 2, 2, 3]\n",
    "Output : 3"
   ]
  },
  {
   "cell_type": "code",
   "execution_count": 7,
   "id": "c44ff5e5-247a-4029-8e3a-9a485db01631",
   "metadata": {},
   "outputs": [
    {
     "data": {
      "text/plain": [
       "3"
      ]
     },
     "execution_count": 7,
     "metadata": {},
     "output_type": "execute_result"
    }
   ],
   "source": [
    "nums = [1, 1, 1, 2, 2, 2, 3] \n",
    "def single_element(nums):\n",
    "    for i in range(len(nums)):\n",
    "        count = 0\n",
    "        for j in range(len(nums)):\n",
    "            if nums[i] == nums[j]:\n",
    "                count += 1\n",
    "        if count == 1:\n",
    "            return nums[i]\n",
    "    # if there is no single element \n",
    "    return -1 \n",
    "\n",
    "\n",
    "single_element(nums)"
   ]
  },
  {
   "cell_type": "markdown",
   "id": "249bb492-5328-47b2-baa2-4884365bf4b7",
   "metadata": {},
   "source": [
    "### 3-Write a Python program to add the digits of a positive integer repeatedly until the result has a single digit. \r\n",
    "Input : 48\r\n",
    "Output : 3\r\n",
    "For example given number is 59, the result will be 5.\r\n",
    "Step 1: 5 + 9 = 14\r\n",
    "Step 1: 1 + 4 = 5"
   ]
  },
  {
   "cell_type": "code",
   "execution_count": 42,
   "id": "cfec6c13-0cb3-40e0-a71d-c1df85a53192",
   "metadata": {},
   "outputs": [
    {
     "data": {
      "text/plain": [
       "3"
      ]
     },
     "execution_count": 42,
     "metadata": {},
     "output_type": "execute_result"
    }
   ],
   "source": [
    "nums_2 = 48\n",
    "def sum_digits(nums_2):\n",
    "    while nums_2 >= 10: \n",
    "        total = 0\n",
    "        for sum in str(nums_2):\n",
    "            total += int(sum)\n",
    "        nums_2 = total\n",
    "\n",
    "    return nums_2\n",
    "\n",
    "sum_digits(nums_2)"
   ]
  }
 ],
 "metadata": {
  "kernelspec": {
   "display_name": "Python 3 (ipykernel)",
   "language": "python",
   "name": "python3"
  },
  "language_info": {
   "codemirror_mode": {
    "name": "ipython",
    "version": 3
   },
   "file_extension": ".py",
   "mimetype": "text/x-python",
   "name": "python",
   "nbconvert_exporter": "python",
   "pygments_lexer": "ipython3",
   "version": "3.9.0"
  }
 },
 "nbformat": 4,
 "nbformat_minor": 5
}
